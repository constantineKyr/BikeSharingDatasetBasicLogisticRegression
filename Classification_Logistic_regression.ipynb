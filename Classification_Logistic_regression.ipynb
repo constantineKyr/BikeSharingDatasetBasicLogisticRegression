{
  "nbformat": 4,
  "nbformat_minor": 0,
  "metadata": {
    "colab": {
      "name": "Classification - Logistic regression.ipynb",
      "provenance": [],
      "collapsed_sections": [],
      "authorship_tag": "ABX9TyNCmK42mIl1D5YhyJ+6f6cV"
    },
    "kernelspec": {
      "name": "python3",
      "display_name": "Python 3"
    }
  },
  "cells": [
    {
      "cell_type": "markdown",
      "metadata": {
        "id": "cCOi-J-miIxm"
      },
      "source": [
        "# Classification using Logistic Regression"
      ]
    },
    {
      "cell_type": "markdown",
      "metadata": {
        "id": "pu2gkB-rigsW"
      },
      "source": [
        "**In this exercise we have to predict if 'few' or 'many' persons have used a bicycle from all the available numeric features, by working on the 'Bike Sharing in Washington D.C.' dataset**"
      ]
    },
    {
      "cell_type": "markdown",
      "metadata": {
        "id": "R31KQka9i7zV"
      },
      "source": [
        "**Connect to GDrive**"
      ]
    },
    {
      "cell_type": "code",
      "metadata": {
        "colab": {
          "base_uri": "https://localhost:8080/"
        },
        "id": "aYtdsFUBi7G7",
        "outputId": "f0fe91d1-be12-45ca-901a-63d68c518a0f"
      },
      "source": [
        "from google.colab import drive\r\n",
        "drive.mount(\"/content/gdrive\")"
      ],
      "execution_count": 3,
      "outputs": [
        {
          "output_type": "stream",
          "text": [
            "Mounted at /content/gdrive\n"
          ],
          "name": "stdout"
        }
      ]
    },
    {
      "cell_type": "markdown",
      "metadata": {
        "id": "ge768Bj1jLMt"
      },
      "source": [
        "**Load the libraries**"
      ]
    },
    {
      "cell_type": "code",
      "metadata": {
        "id": "TA1aCm9kiAKv"
      },
      "source": [
        "from sklearn.linear_model import SGDClassifier\r\n",
        "from io import StringIO\r\n",
        "import matplotlib.pyplot as plt\r\n",
        "import pandas as pd\r\n",
        "import numpy as np\r\n",
        "import sys"
      ],
      "execution_count": 27,
      "outputs": []
    },
    {
      "cell_type": "markdown",
      "metadata": {
        "id": "6veKgbS2jQxd"
      },
      "source": [
        "**Load the dataset**"
      ]
    },
    {
      "cell_type": "code",
      "metadata": {
        "id": "do7m8m5kjSID"
      },
      "source": [
        "dataset=pd.read_csv('/content/gdrive/MyDrive/day.csv')\r\n",
        "df=pd.DataFrame(data=dataset)"
      ],
      "execution_count": 28,
      "outputs": []
    },
    {
      "cell_type": "code",
      "metadata": {
        "id": "nCGEZHTVjYfG"
      },
      "source": [
        "# Change columns to be more readable\r\n",
        "df=df.rename(columns={\"dteday\": \"date\", \"yr\": \"year\", \"mnth\": \"month\", \"weekday\": \"day_of_the_week\", \"workingday\": \"working_day\",\r\n",
        "                      \"weathersit\": \"weather_situation\", \"temp\": \"real_temperature\", \"atemp\": \"feeling_temperature\",\r\n",
        "                      \"hum\": \"humidity\", \"windspeed\": \"wind_speed\", \"cnt\": \"num_of_bikes\"})"
      ],
      "execution_count": 29,
      "outputs": []
    },
    {
      "cell_type": "markdown",
      "metadata": {
        "id": "CTU2Z2yqje8d"
      },
      "source": [
        "# Feature Engineering"
      ]
    },
    {
      "cell_type": "markdown",
      "metadata": {
        "id": "fCoRZxZcjljO"
      },
      "source": [
        "**Remove unwanted columns**"
      ]
    },
    {
      "cell_type": "code",
      "metadata": {
        "id": "E4jPQInbjhSF"
      },
      "source": [
        "# Keep only numeric data\r\n",
        "df = df.drop(['instant','date','casual','registered'],axis=1)"
      ],
      "execution_count": 30,
      "outputs": []
    },
    {
      "cell_type": "markdown",
      "metadata": {
        "id": "Flx1-d4VjrG1"
      },
      "source": [
        "**Final Dataset**"
      ]
    },
    {
      "cell_type": "code",
      "metadata": {
        "colab": {
          "base_uri": "https://localhost:8080/",
          "height": 419
        },
        "id": "izklyQWXjqje",
        "outputId": "fe11b7d2-79de-4205-a7a1-8c03a5362879"
      },
      "source": [
        "df"
      ],
      "execution_count": 31,
      "outputs": [
        {
          "output_type": "execute_result",
          "data": {
            "text/html": [
              "<div>\n",
              "<style scoped>\n",
              "    .dataframe tbody tr th:only-of-type {\n",
              "        vertical-align: middle;\n",
              "    }\n",
              "\n",
              "    .dataframe tbody tr th {\n",
              "        vertical-align: top;\n",
              "    }\n",
              "\n",
              "    .dataframe thead th {\n",
              "        text-align: right;\n",
              "    }\n",
              "</style>\n",
              "<table border=\"1\" class=\"dataframe\">\n",
              "  <thead>\n",
              "    <tr style=\"text-align: right;\">\n",
              "      <th></th>\n",
              "      <th>season</th>\n",
              "      <th>year</th>\n",
              "      <th>month</th>\n",
              "      <th>holiday</th>\n",
              "      <th>day_of_the_week</th>\n",
              "      <th>working_day</th>\n",
              "      <th>weather_situation</th>\n",
              "      <th>real_temperature</th>\n",
              "      <th>feeling_temperature</th>\n",
              "      <th>humidity</th>\n",
              "      <th>wind_speed</th>\n",
              "      <th>num_of_bikes</th>\n",
              "    </tr>\n",
              "  </thead>\n",
              "  <tbody>\n",
              "    <tr>\n",
              "      <th>0</th>\n",
              "      <td>1</td>\n",
              "      <td>0</td>\n",
              "      <td>1</td>\n",
              "      <td>0</td>\n",
              "      <td>6</td>\n",
              "      <td>0</td>\n",
              "      <td>2</td>\n",
              "      <td>0.344167</td>\n",
              "      <td>0.363625</td>\n",
              "      <td>0.805833</td>\n",
              "      <td>0.160446</td>\n",
              "      <td>985</td>\n",
              "    </tr>\n",
              "    <tr>\n",
              "      <th>1</th>\n",
              "      <td>1</td>\n",
              "      <td>0</td>\n",
              "      <td>1</td>\n",
              "      <td>0</td>\n",
              "      <td>0</td>\n",
              "      <td>0</td>\n",
              "      <td>2</td>\n",
              "      <td>0.363478</td>\n",
              "      <td>0.353739</td>\n",
              "      <td>0.696087</td>\n",
              "      <td>0.248539</td>\n",
              "      <td>801</td>\n",
              "    </tr>\n",
              "    <tr>\n",
              "      <th>2</th>\n",
              "      <td>1</td>\n",
              "      <td>0</td>\n",
              "      <td>1</td>\n",
              "      <td>0</td>\n",
              "      <td>1</td>\n",
              "      <td>1</td>\n",
              "      <td>1</td>\n",
              "      <td>0.196364</td>\n",
              "      <td>0.189405</td>\n",
              "      <td>0.437273</td>\n",
              "      <td>0.248309</td>\n",
              "      <td>1349</td>\n",
              "    </tr>\n",
              "    <tr>\n",
              "      <th>3</th>\n",
              "      <td>1</td>\n",
              "      <td>0</td>\n",
              "      <td>1</td>\n",
              "      <td>0</td>\n",
              "      <td>2</td>\n",
              "      <td>1</td>\n",
              "      <td>1</td>\n",
              "      <td>0.200000</td>\n",
              "      <td>0.212122</td>\n",
              "      <td>0.590435</td>\n",
              "      <td>0.160296</td>\n",
              "      <td>1562</td>\n",
              "    </tr>\n",
              "    <tr>\n",
              "      <th>4</th>\n",
              "      <td>1</td>\n",
              "      <td>0</td>\n",
              "      <td>1</td>\n",
              "      <td>0</td>\n",
              "      <td>3</td>\n",
              "      <td>1</td>\n",
              "      <td>1</td>\n",
              "      <td>0.226957</td>\n",
              "      <td>0.229270</td>\n",
              "      <td>0.436957</td>\n",
              "      <td>0.186900</td>\n",
              "      <td>1600</td>\n",
              "    </tr>\n",
              "    <tr>\n",
              "      <th>...</th>\n",
              "      <td>...</td>\n",
              "      <td>...</td>\n",
              "      <td>...</td>\n",
              "      <td>...</td>\n",
              "      <td>...</td>\n",
              "      <td>...</td>\n",
              "      <td>...</td>\n",
              "      <td>...</td>\n",
              "      <td>...</td>\n",
              "      <td>...</td>\n",
              "      <td>...</td>\n",
              "      <td>...</td>\n",
              "    </tr>\n",
              "    <tr>\n",
              "      <th>726</th>\n",
              "      <td>1</td>\n",
              "      <td>1</td>\n",
              "      <td>12</td>\n",
              "      <td>0</td>\n",
              "      <td>4</td>\n",
              "      <td>1</td>\n",
              "      <td>2</td>\n",
              "      <td>0.254167</td>\n",
              "      <td>0.226642</td>\n",
              "      <td>0.652917</td>\n",
              "      <td>0.350133</td>\n",
              "      <td>2114</td>\n",
              "    </tr>\n",
              "    <tr>\n",
              "      <th>727</th>\n",
              "      <td>1</td>\n",
              "      <td>1</td>\n",
              "      <td>12</td>\n",
              "      <td>0</td>\n",
              "      <td>5</td>\n",
              "      <td>1</td>\n",
              "      <td>2</td>\n",
              "      <td>0.253333</td>\n",
              "      <td>0.255046</td>\n",
              "      <td>0.590000</td>\n",
              "      <td>0.155471</td>\n",
              "      <td>3095</td>\n",
              "    </tr>\n",
              "    <tr>\n",
              "      <th>728</th>\n",
              "      <td>1</td>\n",
              "      <td>1</td>\n",
              "      <td>12</td>\n",
              "      <td>0</td>\n",
              "      <td>6</td>\n",
              "      <td>0</td>\n",
              "      <td>2</td>\n",
              "      <td>0.253333</td>\n",
              "      <td>0.242400</td>\n",
              "      <td>0.752917</td>\n",
              "      <td>0.124383</td>\n",
              "      <td>1341</td>\n",
              "    </tr>\n",
              "    <tr>\n",
              "      <th>729</th>\n",
              "      <td>1</td>\n",
              "      <td>1</td>\n",
              "      <td>12</td>\n",
              "      <td>0</td>\n",
              "      <td>0</td>\n",
              "      <td>0</td>\n",
              "      <td>1</td>\n",
              "      <td>0.255833</td>\n",
              "      <td>0.231700</td>\n",
              "      <td>0.483333</td>\n",
              "      <td>0.350754</td>\n",
              "      <td>1796</td>\n",
              "    </tr>\n",
              "    <tr>\n",
              "      <th>730</th>\n",
              "      <td>1</td>\n",
              "      <td>1</td>\n",
              "      <td>12</td>\n",
              "      <td>0</td>\n",
              "      <td>1</td>\n",
              "      <td>1</td>\n",
              "      <td>2</td>\n",
              "      <td>0.215833</td>\n",
              "      <td>0.223487</td>\n",
              "      <td>0.577500</td>\n",
              "      <td>0.154846</td>\n",
              "      <td>2729</td>\n",
              "    </tr>\n",
              "  </tbody>\n",
              "</table>\n",
              "<p>731 rows × 12 columns</p>\n",
              "</div>"
            ],
            "text/plain": [
              "     season  year  month  ...  humidity  wind_speed  num_of_bikes\n",
              "0         1     0      1  ...  0.805833    0.160446           985\n",
              "1         1     0      1  ...  0.696087    0.248539           801\n",
              "2         1     0      1  ...  0.437273    0.248309          1349\n",
              "3         1     0      1  ...  0.590435    0.160296          1562\n",
              "4         1     0      1  ...  0.436957    0.186900          1600\n",
              "..      ...   ...    ...  ...       ...         ...           ...\n",
              "726       1     1     12  ...  0.652917    0.350133          2114\n",
              "727       1     1     12  ...  0.590000    0.155471          3095\n",
              "728       1     1     12  ...  0.752917    0.124383          1341\n",
              "729       1     1     12  ...  0.483333    0.350754          1796\n",
              "730       1     1     12  ...  0.577500    0.154846          2729\n",
              "\n",
              "[731 rows x 12 columns]"
            ]
          },
          "metadata": {
            "tags": []
          },
          "execution_count": 31
        }
      ]
    },
    {
      "cell_type": "markdown",
      "metadata": {
        "id": "hZERl-oHoF4V"
      },
      "source": [
        "# Model Training"
      ]
    },
    {
      "cell_type": "markdown",
      "metadata": {
        "id": "ZqhRbdWRoKe_"
      },
      "source": [
        "**Split dataset into features and target labels**"
      ]
    },
    {
      "cell_type": "code",
      "metadata": {
        "id": "7PMHBGRJoFKP"
      },
      "source": [
        "X_train = df.drop(['num_of_bikes'], axis = 1)\r\n",
        "Y_train = df['num_of_bikes']"
      ],
      "execution_count": 32,
      "outputs": []
    },
    {
      "cell_type": "markdown",
      "metadata": {
        "id": "QZAsiknBuDpH"
      },
      "source": [
        "**Convert 'num_of_bikes' to categorical data**"
      ]
    },
    {
      "cell_type": "code",
      "metadata": {
        "colab": {
          "base_uri": "https://localhost:8080/"
        },
        "id": "qxE4fzdVuD5u",
        "outputId": "03babe27-35a1-4f36-bf00-625de374d4c5"
      },
      "source": [
        "Y_train = pd.cut(Y_train,  bins=2, labels=[0, 1])\r\n",
        "Y_train"
      ],
      "execution_count": 33,
      "outputs": [
        {
          "output_type": "execute_result",
          "data": {
            "text/plain": [
              "0      0\n",
              "1      0\n",
              "2      0\n",
              "3      0\n",
              "4      0\n",
              "      ..\n",
              "726    0\n",
              "727    0\n",
              "728    0\n",
              "729    0\n",
              "730    0\n",
              "Name: num_of_bikes, Length: 731, dtype: category\n",
              "Categories (2, int64): [0 < 1]"
            ]
          },
          "metadata": {
            "tags": []
          },
          "execution_count": 33
        }
      ]
    },
    {
      "cell_type": "markdown",
      "metadata": {
        "id": "Fyf78jkOvFqX"
      },
      "source": [
        "**Visualize 'num_of_bikes' categories with ranges**"
      ]
    },
    {
      "cell_type": "code",
      "metadata": {
        "colab": {
          "base_uri": "https://localhost:8080/",
          "height": 111
        },
        "id": "SGr5hRSbvFxC",
        "outputId": "440ac780-ccc6-49c2-bb55-74dfd95bae4f"
      },
      "source": [
        "df2=pd.DataFrame()\r\n",
        "df2['num_of_bikes_ranges'] = pd.cut(x=df['num_of_bikes'], bins=2)\r\n",
        "df2['num_of_bikes_categories'] = pd.cut(x=df['num_of_bikes'], bins=2, labels=[0,1])\r\n",
        "df2 = df2.drop_duplicates(subset=['num_of_bikes_ranges','num_of_bikes_categories']).sort_values(by=['num_of_bikes_categories']).reset_index(drop=True)\r\n",
        "df2"
      ],
      "execution_count": 34,
      "outputs": [
        {
          "output_type": "execute_result",
          "data": {
            "text/html": [
              "<div>\n",
              "<style scoped>\n",
              "    .dataframe tbody tr th:only-of-type {\n",
              "        vertical-align: middle;\n",
              "    }\n",
              "\n",
              "    .dataframe tbody tr th {\n",
              "        vertical-align: top;\n",
              "    }\n",
              "\n",
              "    .dataframe thead th {\n",
              "        text-align: right;\n",
              "    }\n",
              "</style>\n",
              "<table border=\"1\" class=\"dataframe\">\n",
              "  <thead>\n",
              "    <tr style=\"text-align: right;\">\n",
              "      <th></th>\n",
              "      <th>num_of_bikes_ranges</th>\n",
              "      <th>num_of_bikes_categories</th>\n",
              "    </tr>\n",
              "  </thead>\n",
              "  <tbody>\n",
              "    <tr>\n",
              "      <th>0</th>\n",
              "      <td>(13.308, 4368.0]</td>\n",
              "      <td>0</td>\n",
              "    </tr>\n",
              "    <tr>\n",
              "      <th>1</th>\n",
              "      <td>(4368.0, 8714.0]</td>\n",
              "      <td>1</td>\n",
              "    </tr>\n",
              "  </tbody>\n",
              "</table>\n",
              "</div>"
            ],
            "text/plain": [
              "  num_of_bikes_ranges num_of_bikes_categories\n",
              "0    (13.308, 4368.0]                       0\n",
              "1    (4368.0, 8714.0]                       1"
            ]
          },
          "metadata": {
            "tags": []
          },
          "execution_count": 34
        }
      ]
    },
    {
      "cell_type": "markdown",
      "metadata": {
        "id": "7s-b65FPviH2"
      },
      "source": [
        "**Stochastic Gradient Descent Classifier**"
      ]
    },
    {
      "cell_type": "code",
      "metadata": {
        "id": "Ic1wBb8Qvov8"
      },
      "source": [
        "#Save output to a string variable, to manipulate it accordingly\r\n",
        "old_stdout = sys.stdout\r\n",
        "sys.stdout = mystdout = StringIO()"
      ],
      "execution_count": 35,
      "outputs": []
    },
    {
      "cell_type": "code",
      "metadata": {
        "id": "LDmNGKjYwDC3"
      },
      "source": [
        "learning_rate = 0.001\r\n",
        "sgd = SGDClassifier(loss=\"log\", learning_rate='constant', eta0=learning_rate, penalty=None, max_iter=1, average=False, random_state=2000, verbose=1)"
      ],
      "execution_count": 36,
      "outputs": []
    },
    {
      "cell_type": "code",
      "metadata": {
        "id": "JkdcSUHfwz1t"
      },
      "source": [
        "p_sum=[]\r\n",
        "p2_sum=[]\r\n",
        "epochs=15\r\n",
        "for epoch in range(epochs):\r\n",
        "    model  = sgd.partial_fit(X_train, Y_train, classes=[0, 1])\r\n",
        "    Y_predicted  = model.predict(X_train)\r\n",
        "    p  = model.decision_function(X_train)\r\n",
        "    p_sum.append(p)"
      ],
      "execution_count": 37,
      "outputs": []
    },
    {
      "cell_type": "code",
      "metadata": {
        "id": "5WGuC85AxzV_"
      },
      "source": [
        "sys.stdout = old_stdout\r\n",
        "loss_history = mystdout.getvalue()\r\n",
        "loss_list  = []\r\n",
        "for line in loss_history.split('\\n'):\r\n",
        "    if(len(line.split(\"loss: \")) == 1):\r\n",
        "        continue\r\n",
        "    loss_list.append(float(line.split(\"loss: \")[-1]))"
      ],
      "execution_count": 38,
      "outputs": []
    },
    {
      "cell_type": "code",
      "metadata": {
        "colab": {
          "base_uri": "https://localhost:8080/"
        },
        "id": "F6C6uQ9YyFzu",
        "outputId": "845c17b4-d395-43d7-b55a-046bc06aafe9"
      },
      "source": [
        "model.coef_"
      ],
      "execution_count": 39,
      "outputs": [
        {
          "output_type": "execute_result",
          "data": {
            "text/plain": [
              "array([[ 0.41036544,  0.7761203 , -0.03892733, -0.06250904, -0.02521997,\n",
              "        -0.02451254, -0.72474253,  0.3530807 ,  0.30479576, -0.18885806,\n",
              "        -0.09849415]])"
            ]
          },
          "metadata": {
            "tags": []
          },
          "execution_count": 39
        }
      ]
    },
    {
      "cell_type": "code",
      "metadata": {
        "colab": {
          "base_uri": "https://localhost:8080/",
          "height": 282
        },
        "id": "BDJ4OMxXyPY2",
        "outputId": "75e11371-c849-40e9-fd96-eaba6128e80f"
      },
      "source": [
        "plt.figure()\r\n",
        "plt.plot(np.arange(len(loss_list)), loss_list)\r\n",
        "plt.scatter(np.arange(len(loss_list)), loss_list)\r\n",
        "plt.xlabel(\"Time in epochs\")\r\n",
        "plt.ylabel(\"Loss\")\r\n",
        "plt.show()"
      ],
      "execution_count": 40,
      "outputs": [
        {
          "output_type": "display_data",
          "data": {
            "image/png": "[encoded data removed]",
            "text/plain": [
              "<Figure size 432x288 with 1 Axes>"
            ]
          },
          "metadata": {
            "tags": [],
            "needs_background": "light"
          }
        }
      ]
    },
    {
      "cell_type": "markdown",
      "metadata": {
        "id": "Wdhr38Wt0NfQ"
      },
      "source": [
        "**We choose 'feeling_temperature' as the most prominent feature of the numeric columns**"
      ]
    },
    {
      "cell_type": "code",
      "metadata": {
        "id": "uqKSg7P1ylRO"
      },
      "source": [
        "X_train = df[['feeling_temperature']]"
      ],
      "execution_count": 41,
      "outputs": []
    },
    {
      "cell_type": "code",
      "metadata": {
        "id": "YXyijS5-1O_X"
      },
      "source": [
        "#Save output to a string variable, to manipulate it accordingly\r\n",
        "old_stdout = sys.stdout\r\n",
        "sys.stdout = mystdout = StringIO()"
      ],
      "execution_count": 42,
      "outputs": []
    },
    {
      "cell_type": "code",
      "metadata": {
        "id": "by7n0STr1SmG"
      },
      "source": [
        "learning_rate = 0.001\r\n",
        "sgd = SGDClassifier(loss=\"log\", learning_rate='constant', eta0=learning_rate, penalty=None, max_iter=1, average=False, random_state=2000, verbose=1)"
      ],
      "execution_count": 43,
      "outputs": []
    },
    {
      "cell_type": "code",
      "metadata": {
        "id": "QWMjLA-j1XlO"
      },
      "source": [
        "p_sum = [];\r\n",
        "coef_list=[];\r\n",
        "epochs = 15;\r\n",
        "for epoch in range(epochs):\r\n",
        "    model  = sgd.partial_fit(X_train, Y_train, classes=[0,1])\r\n",
        "    Y_predicted  = model.predict(X_train)\r\n",
        "    p  = model.decision_function(X_train)\r\n",
        "    p_sum.append(p)"
      ],
      "execution_count": 44,
      "outputs": []
    },
    {
      "cell_type": "code",
      "metadata": {
        "id": "TstcP8u81ZyG"
      },
      "source": [
        "sys.stdout = old_stdout\r\n",
        "loss_history = mystdout.getvalue()\r\n",
        "loss_list = []\r\n",
        "for line in loss_history.split('\\n'):\r\n",
        "    if (len(line.split(\"loss: \")) == 1):\r\n",
        "        continue\r\n",
        "    loss_list.append(float(line.split(\"loss: \")[-1]))"
      ],
      "execution_count": 45,
      "outputs": []
    },
    {
      "cell_type": "code",
      "metadata": {
        "colab": {
          "base_uri": "https://localhost:8080/",
          "height": 281
        },
        "id": "25adCFYT1dU4",
        "outputId": "3ae9e516-9081-4b99-aa87-b0b5f66a8c2c"
      },
      "source": [
        "plt.figure()\r\n",
        "plt.plot(np.arange(len(loss_list)), loss_list)\r\n",
        "plt.scatter(np.arange(len(loss_list)), loss_list)\r\n",
        "plt.xlabel(\"Time in epochs\")\r\n",
        "plt.ylabel(\"Loss\")\r\n",
        "plt.show()"
      ],
      "execution_count": 46,
      "outputs": [
        {
          "output_type": "display_data",
          "data": {
            "image/png": "[encoded data removed]",
            "text/plain": [
              "<Figure size 432x288 with 1 Axes>"
            ]
          },
          "metadata": {
            "tags": [],
            "needs_background": "light"
          }
        }
      ]
    },
    {
      "cell_type": "code",
      "metadata": {
        "id": "5hk5yBSV1x6H"
      },
      "source": [
        "p_sum = np.array(p_sum)\r\n",
        "loss_list = np.array(loss_list)\r\n",
        "plt.figure()\r\n",
        "plt.plot(p_sum, loss_list)\r\n",
        "plt.scatter(p_sum, loss_list)\r\n",
        "plt.scatter(p_sum[:1], loss_list[:1], color='red')\r\n",
        "plt.xlabel(\"$y-\\hat{y}$\")\r\n",
        "plt.ylabel(\"Loss\")\r\n",
        "plt.show()"
      ],
      "execution_count": null,
      "outputs": []
    }
  ]
}